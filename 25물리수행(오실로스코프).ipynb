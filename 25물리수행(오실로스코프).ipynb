{
  "nbformat": 4,
  "nbformat_minor": 0,
  "metadata": {
    "colab": {
      "provenance": []
    },
    "kernelspec": {
      "name": "python3",
      "display_name": "Python 3"
    },
    "language_info": {
      "name": "python"
    }
  },
  "cells": [
    {
      "cell_type": "code",
      "source": [
        "!pip -q install scikit-image scipy"
      ],
      "metadata": {
        "id": "o6JTW9neDUTk"
      },
      "execution_count": 1,
      "outputs": []
    },
    {
      "cell_type": "code",
      "source": [
        "import numpy as np\n",
        "import matplotlib.pyplot as plt\n",
        "from PIL import Image\n",
        "from google.colab import files\n",
        "\n",
        "# ✅ 최신 API에 맞춘 import\n",
        "from skimage.filters import threshold_otsu\n",
        "from skimage.morphology import (\n",
        "    opening, remove_small_objects, binary_dilation, disk,\n",
        "    footprint_rectangle,   # ← rectangle 대체\n",
        ")"
      ],
      "metadata": {
        "id": "sobafM6tDaaK"
      },
      "execution_count": 33,
      "outputs": []
    },
    {
      "cell_type": "code",
      "source": [
        "# 0) 업로드 + 격자 제거 전처리\n",
        "def remove_grid_from_pil(pil_img, side=256, h_scale=12, min_obj=150, dilate_px=1):\n",
        "    \"\"\"\n",
        "    흑백·리사이즈 → 이진화 → 수평/수직 격자 제거 → 작은 잡음 제거 → (옵션)선 굵게 → 0/255 반환\n",
        "    \"\"\"\n",
        "    img = pil_img.convert('L').resize((side, side), Image.BILINEAR)\n",
        "    arr = np.array(img)\n",
        "\n",
        "    # 어두운 선 기준 이진화\n",
        "    th = threshold_otsu(arr)\n",
        "    binary = arr < th  # True = 선\n",
        "\n",
        "    # ✅ footprint_rectangle에 튜플로 인자 전달\n",
        "    h_len = max(8, side // h_scale)\n",
        "    grid_h = opening(binary, footprint=footprint_rectangle((1, h_len)))   # ───\n",
        "    grid_v = opening(binary, footprint=footprint_rectangle((h_len, 1)))   # │\n",
        "    grid = np.logical_or(grid_h, grid_v)\n",
        "\n",
        "    # 격자 제거 + 잡음 제거 + (옵션)선 굵게\n",
        "    curve_only = np.logical_and(binary, np.logical_not(grid))\n",
        "    curve_only = remove_small_objects(curve_only, min_size=min_obj)\n",
        "    if dilate_px > 0:\n",
        "        curve_only = binary_dilation(curve_only, footprint=disk(dilate_px))\n",
        "\n",
        "    # 렌더러와 동일 극성: 선=0, 배경=255\n",
        "    out = np.ones_like(arr, dtype=np.uint8) * 255\n",
        "    out[curve_only] = 0\n",
        "    return out\n",
        "\n",
        "\n",
        "# ===== 업로드 및 전처리 =====\n",
        "print(\"➡️ 리사주 이미지 1장을 업로드하세요(.png/.jpg)\")\n",
        "uploaded = files.upload()\n",
        "fname = next(iter(uploaded))\n",
        "\n",
        "SIDE = 256\n",
        "orig = Image.open(fname)\n",
        "target_img = remove_grid_from_pil(orig, side=SIDE, h_scale=12, min_obj=150, dilate_px=1)\n",
        "\n",
        "# 미리보기\n",
        "plt.figure(figsize=(6,3))\n",
        "plt.subplot(1,2,1); plt.imshow(orig.convert('L').resize((SIDE,SIDE)), cmap='gray'); plt.title(\"원본(리사이즈)\"); plt.axis('off')\n",
        "plt.subplot(1,2,2); plt.imshow(target_img, cmap='gray'); plt.title(\"격자 제거 후(선=검정)\"); plt.axis('off')\n",
        "plt.tight_layout(); plt.show()"
      ],
      "metadata": {
        "colab": {
          "base_uri": "https://localhost:8080/",
          "height": 1000
        },
        "id": "w4Skb08CJPcL",
        "outputId": "75b86f7a-88cf-4459-9921-abcb2ed80396"
      },
      "execution_count": 35,
      "outputs": [
        {
          "output_type": "stream",
          "name": "stdout",
          "text": [
            "➡️ 리사주 이미지 1장을 업로드하세요(.png/.jpg)\n"
          ]
        },
        {
          "output_type": "display_data",
          "data": {
            "text/plain": [
              "<IPython.core.display.HTML object>"
            ],
            "text/html": [
              "\n",
              "     <input type=\"file\" id=\"files-1d7da9c5-0516-4c2e-8578-18d5e1e4d4b4\" name=\"files[]\" multiple disabled\n",
              "        style=\"border:none\" />\n",
              "     <output id=\"result-1d7da9c5-0516-4c2e-8578-18d5e1e4d4b4\">\n",
              "      Upload widget is only available when the cell has been executed in the\n",
              "      current browser session. Please rerun this cell to enable.\n",
              "      </output>\n",
              "      <script>// Copyright 2017 Google LLC\n",
              "//\n",
              "// Licensed under the Apache License, Version 2.0 (the \"License\");\n",
              "// you may not use this file except in compliance with the License.\n",
              "// You may obtain a copy of the License at\n",
              "//\n",
              "//      http://www.apache.org/licenses/LICENSE-2.0\n",
              "//\n",
              "// Unless required by applicable law or agreed to in writing, software\n",
              "// distributed under the License is distributed on an \"AS IS\" BASIS,\n",
              "// WITHOUT WARRANTIES OR CONDITIONS OF ANY KIND, either express or implied.\n",
              "// See the License for the specific language governing permissions and\n",
              "// limitations under the License.\n",
              "\n",
              "/**\n",
              " * @fileoverview Helpers for google.colab Python module.\n",
              " */\n",
              "(function(scope) {\n",
              "function span(text, styleAttributes = {}) {\n",
              "  const element = document.createElement('span');\n",
              "  element.textContent = text;\n",
              "  for (const key of Object.keys(styleAttributes)) {\n",
              "    element.style[key] = styleAttributes[key];\n",
              "  }\n",
              "  return element;\n",
              "}\n",
              "\n",
              "// Max number of bytes which will be uploaded at a time.\n",
              "const MAX_PAYLOAD_SIZE = 100 * 1024;\n",
              "\n",
              "function _uploadFiles(inputId, outputId) {\n",
              "  const steps = uploadFilesStep(inputId, outputId);\n",
              "  const outputElement = document.getElementById(outputId);\n",
              "  // Cache steps on the outputElement to make it available for the next call\n",
              "  // to uploadFilesContinue from Python.\n",
              "  outputElement.steps = steps;\n",
              "\n",
              "  return _uploadFilesContinue(outputId);\n",
              "}\n",
              "\n",
              "// This is roughly an async generator (not supported in the browser yet),\n",
              "// where there are multiple asynchronous steps and the Python side is going\n",
              "// to poll for completion of each step.\n",
              "// This uses a Promise to block the python side on completion of each step,\n",
              "// then passes the result of the previous step as the input to the next step.\n",
              "function _uploadFilesContinue(outputId) {\n",
              "  const outputElement = document.getElementById(outputId);\n",
              "  const steps = outputElement.steps;\n",
              "\n",
              "  const next = steps.next(outputElement.lastPromiseValue);\n",
              "  return Promise.resolve(next.value.promise).then((value) => {\n",
              "    // Cache the last promise value to make it available to the next\n",
              "    // step of the generator.\n",
              "    outputElement.lastPromiseValue = value;\n",
              "    return next.value.response;\n",
              "  });\n",
              "}\n",
              "\n",
              "/**\n",
              " * Generator function which is called between each async step of the upload\n",
              " * process.\n",
              " * @param {string} inputId Element ID of the input file picker element.\n",
              " * @param {string} outputId Element ID of the output display.\n",
              " * @return {!Iterable<!Object>} Iterable of next steps.\n",
              " */\n",
              "function* uploadFilesStep(inputId, outputId) {\n",
              "  const inputElement = document.getElementById(inputId);\n",
              "  inputElement.disabled = false;\n",
              "\n",
              "  const outputElement = document.getElementById(outputId);\n",
              "  outputElement.innerHTML = '';\n",
              "\n",
              "  const pickedPromise = new Promise((resolve) => {\n",
              "    inputElement.addEventListener('change', (e) => {\n",
              "      resolve(e.target.files);\n",
              "    });\n",
              "  });\n",
              "\n",
              "  const cancel = document.createElement('button');\n",
              "  inputElement.parentElement.appendChild(cancel);\n",
              "  cancel.textContent = 'Cancel upload';\n",
              "  const cancelPromise = new Promise((resolve) => {\n",
              "    cancel.onclick = () => {\n",
              "      resolve(null);\n",
              "    };\n",
              "  });\n",
              "\n",
              "  // Wait for the user to pick the files.\n",
              "  const files = yield {\n",
              "    promise: Promise.race([pickedPromise, cancelPromise]),\n",
              "    response: {\n",
              "      action: 'starting',\n",
              "    }\n",
              "  };\n",
              "\n",
              "  cancel.remove();\n",
              "\n",
              "  // Disable the input element since further picks are not allowed.\n",
              "  inputElement.disabled = true;\n",
              "\n",
              "  if (!files) {\n",
              "    return {\n",
              "      response: {\n",
              "        action: 'complete',\n",
              "      }\n",
              "    };\n",
              "  }\n",
              "\n",
              "  for (const file of files) {\n",
              "    const li = document.createElement('li');\n",
              "    li.append(span(file.name, {fontWeight: 'bold'}));\n",
              "    li.append(span(\n",
              "        `(${file.type || 'n/a'}) - ${file.size} bytes, ` +\n",
              "        `last modified: ${\n",
              "            file.lastModifiedDate ? file.lastModifiedDate.toLocaleDateString() :\n",
              "                                    'n/a'} - `));\n",
              "    const percent = span('0% done');\n",
              "    li.appendChild(percent);\n",
              "\n",
              "    outputElement.appendChild(li);\n",
              "\n",
              "    const fileDataPromise = new Promise((resolve) => {\n",
              "      const reader = new FileReader();\n",
              "      reader.onload = (e) => {\n",
              "        resolve(e.target.result);\n",
              "      };\n",
              "      reader.readAsArrayBuffer(file);\n",
              "    });\n",
              "    // Wait for the data to be ready.\n",
              "    let fileData = yield {\n",
              "      promise: fileDataPromise,\n",
              "      response: {\n",
              "        action: 'continue',\n",
              "      }\n",
              "    };\n",
              "\n",
              "    // Use a chunked sending to avoid message size limits. See b/62115660.\n",
              "    let position = 0;\n",
              "    do {\n",
              "      const length = Math.min(fileData.byteLength - position, MAX_PAYLOAD_SIZE);\n",
              "      const chunk = new Uint8Array(fileData, position, length);\n",
              "      position += length;\n",
              "\n",
              "      const base64 = btoa(String.fromCharCode.apply(null, chunk));\n",
              "      yield {\n",
              "        response: {\n",
              "          action: 'append',\n",
              "          file: file.name,\n",
              "          data: base64,\n",
              "        },\n",
              "      };\n",
              "\n",
              "      let percentDone = fileData.byteLength === 0 ?\n",
              "          100 :\n",
              "          Math.round((position / fileData.byteLength) * 100);\n",
              "      percent.textContent = `${percentDone}% done`;\n",
              "\n",
              "    } while (position < fileData.byteLength);\n",
              "  }\n",
              "\n",
              "  // All done.\n",
              "  yield {\n",
              "    response: {\n",
              "      action: 'complete',\n",
              "    }\n",
              "  };\n",
              "}\n",
              "\n",
              "scope.google = scope.google || {};\n",
              "scope.google.colab = scope.google.colab || {};\n",
              "scope.google.colab._files = {\n",
              "  _uploadFiles,\n",
              "  _uploadFilesContinue,\n",
              "};\n",
              "})(self);\n",
              "</script> "
            ]
          },
          "metadata": {}
        },
        {
          "output_type": "stream",
          "name": "stdout",
          "text": [
            "Saving sample lissajous picture.PNG to sample lissajous picture.PNG\n"
          ]
        },
        {
          "output_type": "stream",
          "name": "stderr",
          "text": [
            "/tmp/ipython-input-3205435894.py:44: UserWarning: Glyph 50896 (\\N{HANGUL SYLLABLE WEON}) missing from font(s) DejaVu Sans.\n",
            "  plt.tight_layout(); plt.show()\n",
            "/tmp/ipython-input-3205435894.py:44: UserWarning: Glyph 48376 (\\N{HANGUL SYLLABLE BON}) missing from font(s) DejaVu Sans.\n",
            "  plt.tight_layout(); plt.show()\n",
            "/tmp/ipython-input-3205435894.py:44: UserWarning: Glyph 47532 (\\N{HANGUL SYLLABLE RI}) missing from font(s) DejaVu Sans.\n",
            "  plt.tight_layout(); plt.show()\n",
            "/tmp/ipython-input-3205435894.py:44: UserWarning: Glyph 49324 (\\N{HANGUL SYLLABLE SA}) missing from font(s) DejaVu Sans.\n",
            "  plt.tight_layout(); plt.show()\n",
            "/tmp/ipython-input-3205435894.py:44: UserWarning: Glyph 51060 (\\N{HANGUL SYLLABLE I}) missing from font(s) DejaVu Sans.\n",
            "  plt.tight_layout(); plt.show()\n",
            "/tmp/ipython-input-3205435894.py:44: UserWarning: Glyph 51592 (\\N{HANGUL SYLLABLE JEU}) missing from font(s) DejaVu Sans.\n",
            "  plt.tight_layout(); plt.show()\n",
            "/tmp/ipython-input-3205435894.py:44: UserWarning: Glyph 44201 (\\N{HANGUL SYLLABLE GYEOG}) missing from font(s) DejaVu Sans.\n",
            "  plt.tight_layout(); plt.show()\n",
            "/tmp/ipython-input-3205435894.py:44: UserWarning: Glyph 51088 (\\N{HANGUL SYLLABLE JA}) missing from font(s) DejaVu Sans.\n",
            "  plt.tight_layout(); plt.show()\n",
            "/tmp/ipython-input-3205435894.py:44: UserWarning: Glyph 51228 (\\N{HANGUL SYLLABLE JE}) missing from font(s) DejaVu Sans.\n",
            "  plt.tight_layout(); plt.show()\n",
            "/tmp/ipython-input-3205435894.py:44: UserWarning: Glyph 44144 (\\N{HANGUL SYLLABLE GEO}) missing from font(s) DejaVu Sans.\n",
            "  plt.tight_layout(); plt.show()\n",
            "/tmp/ipython-input-3205435894.py:44: UserWarning: Glyph 54980 (\\N{HANGUL SYLLABLE HU}) missing from font(s) DejaVu Sans.\n",
            "  plt.tight_layout(); plt.show()\n",
            "/tmp/ipython-input-3205435894.py:44: UserWarning: Glyph 49440 (\\N{HANGUL SYLLABLE SEON}) missing from font(s) DejaVu Sans.\n",
            "  plt.tight_layout(); plt.show()\n",
            "/tmp/ipython-input-3205435894.py:44: UserWarning: Glyph 44160 (\\N{HANGUL SYLLABLE GEOM}) missing from font(s) DejaVu Sans.\n",
            "  plt.tight_layout(); plt.show()\n",
            "/tmp/ipython-input-3205435894.py:44: UserWarning: Glyph 51221 (\\N{HANGUL SYLLABLE JEONG}) missing from font(s) DejaVu Sans.\n",
            "  plt.tight_layout(); plt.show()\n",
            "/usr/local/lib/python3.12/dist-packages/IPython/core/pylabtools.py:151: UserWarning: Glyph 49440 (\\N{HANGUL SYLLABLE SEON}) missing from font(s) DejaVu Sans.\n",
            "  fig.canvas.print_figure(bytes_io, **kw)\n",
            "/usr/local/lib/python3.12/dist-packages/IPython/core/pylabtools.py:151: UserWarning: Glyph 44160 (\\N{HANGUL SYLLABLE GEOM}) missing from font(s) DejaVu Sans.\n",
            "  fig.canvas.print_figure(bytes_io, **kw)\n",
            "/usr/local/lib/python3.12/dist-packages/IPython/core/pylabtools.py:151: UserWarning: Glyph 51221 (\\N{HANGUL SYLLABLE JEONG}) missing from font(s) DejaVu Sans.\n",
            "  fig.canvas.print_figure(bytes_io, **kw)\n"
          ]
        },
        {
          "output_type": "display_data",
          "data": {
            "text/plain": [
              "<Figure size 600x300 with 2 Axes>"
            ],
            "image/png": "[encoded data removed]"
          },
          "metadata": {}
        }
      ]
    },
    {
      "cell_type": "code",
      "source": [
        "# 1) Lissajous (delta = 0)\n",
        "def lissajous(a, b, n=2400, tmax=2*np.pi):\n",
        "    t = np.linspace(0, tmax, n)\n",
        "    x = np.sin(a*t)   # delta=0 고정\n",
        "    y = np.sin(b*t)\n",
        "    return x, y"
      ],
      "metadata": {
        "id": "csI_c0deDcNP"
      },
      "execution_count": 36,
      "outputs": []
    },
    {
      "cell_type": "code",
      "source": [
        "# 2) 곡선을 흑백 이미지로 래스터화 (얇은 폴리라인)\n",
        "def render_curve_image(x, y, size=256, margin=0.06):\n",
        "    x = x / (np.max(np.abs(x)) + 1e-9)\n",
        "    y = y / (np.max(np.abs(y)) + 1e-9)\n",
        "    img = np.ones((size, size), dtype=np.uint8) * 255  # white bg\n",
        "\n",
        "    s = int(size*(1-2*margin))\n",
        "    px = ((x+1)/2 * s + size*margin).astype(int)\n",
        "    py = ((1-(y+1)/2) * s + size*margin).astype(int)\n",
        "\n",
        "    # Bresenham polyline\n",
        "    def line_pixels(r0, c0, r1, c1):\n",
        "        rr, cc = [], []\n",
        "        dr = abs(r1 - r0); dc = abs(c1 - c0)\n",
        "        sr = 1 if (r1 - r0) >= 0 else -1\n",
        "        sc = 1 if (c1 - c0) >= 0 else -1\n",
        "        if dc > dr:\n",
        "            err = dc // 2; r = r0\n",
        "            for c in range(c0, c1+sc, sc):\n",
        "                if 0<=r<size and 0<=c<size: rr.append(r); cc.append(c)\n",
        "                err -= dr\n",
        "                if err < 0: r += sr; err += dc\n",
        "        else:\n",
        "            err = dr // 2; c = c0\n",
        "            for r in range(r0, r1+sr, sr):\n",
        "                if 0<=r<size and 0<=c<size: rr.append(r); cc.append(c)\n",
        "                err -= dc\n",
        "                if err < 0: c += sc; err += dr\n",
        "        return np.array(rr), np.array(cc)\n",
        "\n",
        "    for i in range(1, len(px)):\n",
        "        rr, cc = line_pixels(py[i-1], px[i-1], py[i], px[i])\n",
        "        img[rr, cc] = 0\n",
        "    return img\n",
        "\n",
        "def draw_lissajous_image(a, b, size=256, tmax=2*np.pi):\n",
        "    x, y = lissajous(a, b, n=2400, tmax=tmax)\n",
        "    return render_curve_image(x, y, size=size)"
      ],
      "metadata": {
        "id": "_UCckCBsDd7T"
      },
      "execution_count": 37,
      "outputs": []
    },
    {
      "cell_type": "code",
      "source": [
        "# 3) 회전/스왑 동형성 고려한 SSIM\n",
        "def rotate_points(x, y, theta):\n",
        "    c, s = np.cos(theta), np.sin(theta)\n",
        "    xr = c*x - s*y\n",
        "    yr = s*x + c*y\n",
        "    return xr, yr\n",
        "\n",
        "def best_ssim_to_target(a, b, target_img, try_rotations=True, try_swap=True, tmax=2*np.pi):\n",
        "    angles = np.linspace(0, np.pi, 13) if try_rotations else [0.0]\n",
        "    pairs = [(a,b)]\n",
        "    if try_swap:\n",
        "        pairs.append((b,a))  # (a,b)와 (b,a)는 회전/대칭으로 동형\n",
        "\n",
        "    best = -1.0\n",
        "    for aa, bb in pairs:\n",
        "        x, y = lissajous(aa, bb, n=2400, tmax=tmax)\n",
        "        for th in angles:\n",
        "            xr, yr = rotate_points(x, y, th)\n",
        "            cand = render_curve_image(xr, yr, size=target_img.shape[0])\n",
        "            score = ssim(target_img, cand)\n",
        "            if score > best:\n",
        "                best = score\n",
        "    return best"
      ],
      "metadata": {
        "id": "61Y1ajGaDiV1"
      },
      "execution_count": 38,
      "outputs": []
    },
    {
      "cell_type": "code",
      "source": [
        "# 4) 정수비 coarse 탐색 (δ=0)\n",
        "def coarse_integer_search_delta0(target_img, a_max=12, b_max=12, tmax=2*np.pi):\n",
        "    best = {'score':-1, 'a':None, 'b':None}\n",
        "    for a in range(1, a_max+1):\n",
        "        for b in range(1, b_max+1):\n",
        "            s = best_ssim_to_target(a, b, target_img, try_rotations=True, try_swap=True, tmax=tmax)\n",
        "            if s > best['score']:\n",
        "                best.update({'score':s, 'a':a, 'b':b})\n",
        "    return best"
      ],
      "metadata": {
        "id": "92xsvtrWDlZ-"
      },
      "execution_count": 39,
      "outputs": []
    },
    {
      "cell_type": "code",
      "source": [
        "# 5) (a,b) 연속 최적화 (δ=0)\n",
        "def refine_ab_delta0(target_img, a0, b0, tmax=2*np.pi):\n",
        "    def neg_score(p):\n",
        "        aa, bb = p\n",
        "        aa = max(0.5, aa); bb = max(0.5, bb)\n",
        "        return -best_ssim_to_target(aa, bb, target_img, tmax=tmax)\n",
        "    res = minimize(neg_score, x0=[a0, b0], method='Nelder-Mead',\n",
        "                   options={'maxiter': 200, 'xatol':1e-2, 'fatol':1e-3})\n",
        "    aa, bb = res.x\n",
        "    score = -res.fun\n",
        "    return {'score':score, 'a':aa, 'b':bb}"
      ],
      "metadata": {
        "id": "M46vtG-3Dotv"
      },
      "execution_count": 40,
      "outputs": []
    },
    {
      "cell_type": "code",
      "source": [
        "# 6) 비율을 보기 좋은 분수로\n",
        "def pretty_ratio(a, b, max_den=40):\n",
        "    r = a/b\n",
        "    frac = Fraction(r).limit_denominator(max_den)\n",
        "    return f\"{frac.numerator}:{frac.denominator}\", (frac.numerator, frac.denominator), float(r)"
      ],
      "metadata": {
        "id": "QkeBO_VZDqgy"
      },
      "execution_count": 41,
      "outputs": []
    },
    {
      "cell_type": "code",
      "source": [
        "# 연속 최적화\n",
        "refined = refine_ab_delta0(target_img, coarse['a'], coarse['b'], tmax=2*np.pi)\n",
        "print(f\"[Refined] a≈{refined['a']:.3f}, b≈{refined['b']:.3f}, SSIM={refined['score']:.4f}\")\n",
        "\n",
        "# 분수비/SSIM 출력\n",
        "ratio_txt, (p, q), r_float = pretty_ratio(refined['a'], refined['b'], max_den=40)\n",
        "print(f\"\\nEstimated ratio ≈ {ratio_txt}  (~ {r_float:.4f})\")\n",
        "print(f\"SSIM ≈ {refined['score']:.4f}\")\n",
        "print(\"Match ≥ 0.90 ?\", refined['score'] >= 0.90)\n",
        "\n",
        "# 시각화: 타깃 vs 추정 결과\n",
        "best_img = draw_lissajous_image(refined['a'], refined['b'], size=target_img.shape[0])\n",
        "fig, axes = plt.subplots(1,2, figsize=(6,3))\n",
        "axes[0].imshow(target_img, cmap='gray'); axes[0].set_title(\"Target\"); axes[0].axis('off')\n",
        "axes[1].imshow(best_img, cmap='gray'); axes[1].set_title(\"Best fit (δ=0)\"); axes[1].axis('off')\n",
        "plt.tight_layout(); plt.show()\n"
      ],
      "metadata": {
        "colab": {
          "base_uri": "https://localhost:8080/",
          "height": 410
        },
        "id": "nEgctxHLEZAe",
        "outputId": "e54fa8ff-e47b-4102-ea17-b937d9ee9eb4"
      },
      "execution_count": 42,
      "outputs": [
        {
          "output_type": "stream",
          "name": "stdout",
          "text": [
            "[Refined] a≈1.033, b≈1.035, SSIM=0.9689\n",
            "\n",
            "Estimated ratio ≈ 1:1  (~ 0.9979)\n",
            "SSIM ≈ 0.9689\n",
            "Match ≥ 0.90 ? True\n"
          ]
        },
        {
          "output_type": "display_data",
          "data": {
            "text/plain": [
              "<Figure size 600x300 with 2 Axes>"
            ],
            "image/png": "[encoded data removed]"
          },
          "metadata": {}
        }
      ]
    },
    {
      "cell_type": "code",
      "source": [],
      "metadata": {
        "id": "YlB1FQxMJ79S"
      },
      "execution_count": null,
      "outputs": []
    }
  ]
}